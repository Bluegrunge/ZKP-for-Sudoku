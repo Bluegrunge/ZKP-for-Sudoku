{
  "nbformat": 4,
  "nbformat_minor": 0,
  "metadata": {
    "colab": {
      "name": "ZKP.ipynb",
      "provenance": []
    },
    "kernelspec": {
      "name": "python3",
      "display_name": "Python 3"
    },
    "language_info": {
      "name": "python"
    }
  },
  "cells": [
    {
      "cell_type": "code",
      "metadata": {
        "id": "oUP3Fcjkvc_H"
      },
      "source": [
        "import random\n",
        "\n",
        "from hashlib import sha512\n",
        "from itertools import zip_longest"
      ],
      "execution_count": null,
      "outputs": []
    },
    {
      "cell_type": "code",
      "metadata": {
        "id": "tfUAtwlEwJcf"
      },
      "source": [
        "\n",
        "def gen_sudoku_puzzle():\n",
        "    puzzle = [\n",
        "        0,0,0,0,0,0,6,8,0, \\\n",
        "        0,0,0,0,7,3,0,0,9, \\\n",
        "        3,0,9,0,0,0,0,4,5, \\\n",
        "        4,9,0,0,0,0,0,0,0, \\\n",
        "        8,0,3,0,5,0,9,0,2, \\\n",
        "        0,0,0,0,0,0,0,3,6, \\\n",
        "        9,6,0,0,0,0,3,0,8, \\\n",
        "        7,0,0,6,8,0,0,0,0, \\\n",
        "        0,2,8,0,0,0,0,0,0 \n",
        "    ]\n",
        "    # Indices of given values\n",
        "    indices = [6,7,13,14,17,18,20,25,26,27,28,36,38,40,42,44,52,53,54,55,60,62,63,66,67,73,74]\n",
        "    return puzzle, indices"
      ],
      "execution_count": null,
      "outputs": []
    },
    {
      "cell_type": "code",
      "metadata": {
        "id": "kOzUayX7wMmw"
      },
      "source": [
        "\n",
        "def solve_sudoku_puzzle(puzzle):\n",
        "    solution = [\n",
        "        1,7,2,5,4,9,6,8,3, \\\n",
        "        6,4,5,8,7,3,2,1,9, \\\n",
        "        3,8,9,2,6,1,7,4,5, \\\n",
        "        4,9,6,3,2,7,8,5,1, \\\n",
        "        8,1,3,4,5,6,9,7,2, \\\n",
        "        2,5,7,1,9,8,4,3,6, \\\n",
        "        9,6,4,7,1,5,3,2,8, \\\n",
        "        7,3,1,6,8,2,5,9,4, \\\n",
        "        5,2,8,9,3,4,1,6,7\n",
        "    ]\n",
        "    return solution"
      ],
      "execution_count": null,
      "outputs": []
    },
    {
      "cell_type": "code",
      "metadata": {
        "id": "ELxH13B0wPVu"
      },
      "source": [
        "def get_group(iterable, size):\n",
        "    return [iterable[i:i+size] for i in range(0, len(iterable), size)]"
      ],
      "execution_count": null,
      "outputs": []
    },
    {
      "cell_type": "code",
      "metadata": {
        "id": "ZrGLcV8UwRnC"
      },
      "source": [
        "def flatten(iterable):\n",
        "    return [item for sublist in iterable for item in sublist]"
      ],
      "execution_count": null,
      "outputs": []
    },
    {
      "cell_type": "code",
      "metadata": {
        "id": "tqHZ7-rGwUEY"
      },
      "source": [
        "def puzzle_rows(puzzle):\n",
        "    return get_group(puzzle, 9)"
      ],
      "execution_count": null,
      "outputs": []
    },
    {
      "cell_type": "code",
      "metadata": {
        "id": "D2pW9bGSwWEN"
      },
      "source": [
        "def puzzle_columns(puzzle):\n",
        "    return list(zip(*puzzle_rows(puzzle)))"
      ],
      "execution_count": null,
      "outputs": []
    },
    {
      "cell_type": "code",
      "metadata": {
        "id": "zjrZYvBHwZIH"
      },
      "source": [
        "def puzzle_subgrids(puzzle, size=3, n=9):\n",
        "    subgrids = []\n",
        "    rows = puzzle_rows(puzzle)\n",
        "    for i in range(0,n,size):\n",
        "        for j in range(0,n,size):\n",
        "            subgrids.append(flatten([rows[j+k][i:i+size] for k in range(size)]))\n",
        "    return subgrids"
      ],
      "execution_count": null,
      "outputs": []
    },
    {
      "cell_type": "code",
      "metadata": {
        "id": "ja998DsUwcHm"
      },
      "source": [
        "def create_permutations():\n",
        "    permutations = list(range(1,10))\n",
        "    random.shuffle(permutations)\n",
        "    permutations = [0] + permutations\n",
        "    return permutations"
      ],
      "execution_count": null,
      "outputs": []
    },
    {
      "cell_type": "code",
      "metadata": {
        "id": "0rcO-gxgweUB"
      },
      "source": [
        "def puzzle_permute(puzzle, permutations):\n",
        "    return [permutations[x] for x in puzzle]"
      ],
      "execution_count": null,
      "outputs": []
    },
    {
      "cell_type": "code",
      "metadata": {
        "id": "G46OMVYVwgeo"
      },
      "source": [
        "def gen_nonces():\n",
        "    nonces = [\n",
        "        random.SystemRandom().getrandbits(512) for _ in range(9**2)\n",
        "    ]\n",
        "    return nonces"
      ],
      "execution_count": null,
      "outputs": []
    },
    {
      "cell_type": "code",
      "metadata": {
        "id": "U_5WGTC3wiv2"
      },
      "source": [
        "def puzzle_commitment(puzzle, nonces):\n",
        "    return [sha512((str(nonce)+str(val)).encode('utf-8')).hexdigest() for nonce, val in zip(nonces, puzzle)]"
      ],
      "execution_count": null,
      "outputs": []
    },
    {
      "cell_type": "code",
      "metadata": {
        "id": "YE7WjxpvwlAG"
      },
      "source": [
        "def all_digits_exist_once(iterable):\n",
        "    digit_mask = [0 for i in range(9)]\n",
        "    for x in iterable:\n",
        "        digit_mask[x-1]=1\n",
        "    return all(digit_mask)"
      ],
      "execution_count": null,
      "outputs": []
    },
    {
      "cell_type": "code",
      "metadata": {
        "colab": {
          "base_uri": "https://localhost:8080/"
        },
        "id": "HoMSkWC4wm7U",
        "outputId": "d5c08d67-ec50-4760-ca4d-b455fded74c9"
      },
      "source": [
        "# Alice: \n",
        "puzzle, presets = gen_sudoku_puzzle()\n",
        "solution = solve_sudoku_puzzle(puzzle)\n",
        "# Alice sends: puzzle, presets, \"Hey Bob! I found the solution!\"\n",
        "# Bob: \"I don't believe you!\"\n",
        "# Alice: \"Okay wait and see..\" \n",
        "\n",
        "permutations = create_permutations()\n",
        "permuted_solution = puzzle_permute(solution, permutations)\n",
        "nonces = gen_nonces()\n",
        "commitment = puzzle_commitment(permuted_solution, nonces)\n",
        "# Alice: <Commitment> \"Here... pick a row, column, subgrid or presets\"\n",
        "\n",
        "# Bob: \"Hmmm.. Okay! I pick the 2nd row\"\n",
        "# Alice:\n",
        "second_row = puzzle_rows(permuted_solution)[1]\n",
        "second_row_nonces = puzzle_rows(nonces)[1]\n",
        "# Alice sends: <second_row, second_row_nonces> \"Hey Bob check them out!\"\n",
        "\n",
        "# Bob: \"Let me verify...\"\n",
        "second_row_commitment = puzzle_rows(commitment)[1]\n",
        "sudoku_verification = all_digits_exist_once(second_row)\n",
        "assert sudoku_verification == True, \"Commitment verified!\"\n",
        "print(\"Sudoku verified!\")\n",
        "commitment_verification = puzzle_commitment(second_row, second_row_nonces)\n",
        "assert commitment_verification == second_row_commitment, \"Commitment not verified!\"\n",
        "print(\"Commitment verified!\")\n",
        "# Bob: \"Okay seems like it is correct.. but I am only 1/28 confident...\"\n",
        "# Alice: \"If you still have doubts we can repeat this as many times as you want! :)\""
      ],
      "execution_count": null,
      "outputs": [
        {
          "output_type": "stream",
          "name": "stdout",
          "text": [
            "Sudoku verified!\n",
            "Commitment verified!\n"
          ]
        }
      ]
    }
  ]
}